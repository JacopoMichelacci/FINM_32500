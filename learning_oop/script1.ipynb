{
 "cells": [
  {
   "cell_type": "code",
   "execution_count": 95,
   "metadata": {},
   "outputs": [
    {
     "name": "stdout",
     "output_type": "stream",
     "text": [
      "total users:  2\n"
     ]
    }
   ],
   "source": [
    "from datetime import datetime\n",
    "\n",
    "class User():\n",
    "    user_cnt = 0\n",
    "\n",
    "    def __init__(self, username, email):\n",
    "        self.username = username\n",
    "        self.email = email\n",
    "        User.user_cnt += 1\n",
    "    \n",
    "    def display_user(self):\n",
    "        print(f\"Username: {self.username}, \\nEmail: {self.email}\")\n",
    "\n",
    "#obj\n",
    "user1 = User(\"danny04\", \"sburubu@gmail.com\")\n",
    "user2 = User(\"biribuz\", \"sburubu@gmail.com\")\n",
    "\n",
    "\n",
    "\n",
    "print(\"total users: \", User.user_cnt)\n",
    "\n"
   ]
  },
  {
   "cell_type": "code",
   "execution_count": 96,
   "metadata": {},
   "outputs": [
    {
     "name": "stdout",
     "output_type": "stream",
     "text": [
      "logging transaction type: deposit of $200. New balance is: $700\n"
     ]
    }
   ],
   "source": [
    "class BankAccount1():\n",
    "    MIN_BALANCE = 100\n",
    "\n",
    "    def __init__(self, owner, balance=0):\n",
    "        self.owner = owner\n",
    "        self.balance = balance\n",
    "\n",
    "    def deposit(self, amt):\n",
    "        if self.is_valid_amt(amt):\n",
    "            self.balance += amt\n",
    "            self.__log_transaction(\"deposit\", amt)\n",
    "        else:\n",
    "            print(f\"Deposits must be > 0\")\n",
    "\n",
    "    def is_valid_amt(self, amt):\n",
    "        return amt > 0\n",
    "\n",
    "    def __log_transaction(self, transaction_type, amt):\n",
    "        print(f\"logging transaction type: {transaction_type} of ${amt}. New balance is: ${self.balance}\")\n",
    "    \n",
    "    @staticmethod\n",
    "    def is_valid_interest_rate(rate):\n",
    "        return (0 <= rate <= 5)     #returns true or false\n",
    "    \n",
    "user1 = BankAccount1(\"alice\", 500)\n",
    "user1.deposit(200)\n",
    "\n",
    "\n",
    "\n",
    "\n",
    "    \n"
   ]
  },
  {
   "cell_type": "code",
   "execution_count": null,
   "metadata": {},
   "outputs": [
    {
     "name": "stdout",
     "output_type": "stream",
     "text": [
      "0.0\n",
      "100\n",
      "101.99\n"
     ]
    }
   ],
   "source": [
    "#Encapsulation\n",
    "\n",
    "class BadBankAccount:\n",
    "    def __init__(self, balance):\n",
    "        self.balance = balance\n",
    "\n",
    "    \n",
    "accountbad = BadBankAccount(0.0)\n",
    "\n",
    "print(accountbad.balance)\n",
    "\n",
    "\n",
    "class BankAccount:\n",
    "    def __init__(self, balance):\n",
    "        self._balance = balance\n",
    "    \n",
    "    @property\n",
    "    def balance(self):\n",
    "        return self._balance\n",
    "    \n",
    "    def deposit(self, amount):\n",
    "        if amount <= 0:\n",
    "            raise ValueError(\"deposit amount must be positive\")\n",
    "        \n",
    "        self._balance += amount\n",
    "    \n",
    "    def withdrawal(self, amount):\n",
    "        if amount <= 0:\n",
    "            raise ValueError(\"withdrawal amount must be positive\")\n",
    "        if amount > self._balance: \n",
    "            raise ValueError(\"insufficent funds\")\n",
    "        self._balance -= amount\n",
    "\n",
    "\n",
    "account = BankAccount(0)\n",
    "\n",
    "print(account.balance)\n",
    "account.deposit(1.99)\n",
    "print(account.balance)\n",
    "\n",
    "\n",
    "\n"
   ]
  },
  {
   "cell_type": "code",
   "execution_count": 110,
   "metadata": {},
   "outputs": [
    {
     "name": "stdout",
     "output_type": "stream",
     "text": [
      "Connecting to email server\n",
      "Authenticating...\n",
      "sending email...\n",
      "sent email to: danny, msg: ciao\n",
      "Disconnecting from email server...\n"
     ]
    }
   ],
   "source": [
    "#Abstraction\n",
    "\n",
    "class EmailService:\n",
    "    def _connect(self):\n",
    "        print(\"Connecting to email server\")\n",
    "\n",
    "    def _authenticate(self):\n",
    "        print(\"Authenticating...\")\n",
    "    \n",
    "    def send_email(self, user, message):\n",
    "        self._connect()\n",
    "        self._authenticate()\n",
    "        print(\"sending email...\")\n",
    "        print(f\"sent email to: {user}, msg: {message}\")\n",
    "        self._disconnect()\n",
    "\n",
    "    def _disconnect(self): \n",
    "        print(\"Disconnecting from email server...\")\n",
    "    \n",
    "\n",
    "email = EmailService()\n",
    "email.send_email(\"danny\", \"ciao\")\n",
    "\n"
   ]
  },
  {
   "cell_type": "code",
   "execution_count": 117,
   "metadata": {},
   "outputs": [
    {
     "name": "stdout",
     "output_type": "stream",
     "text": [
      "inspecting toyota yaris (Car)\n",
      "inspecting honda rtx (Bike)\n"
     ]
    }
   ],
   "source": [
    "class Vehicle:\n",
    "    def __init__(self, brand, model, year):\n",
    "        self.brand = brand \n",
    "        self.model = model\n",
    "        self.year = year\n",
    "    \n",
    "    def start(self):\n",
    "        print(\"vehicle is starting\")\n",
    "    \n",
    "    def stop(self): \n",
    "        print(\"vehicle is stopping\")\n",
    "\n",
    "\n",
    "class Car(Vehicle):\n",
    "    def __init__(self, brand, model, year, n_doors, n_wheels):\n",
    "        super().__init__(brand, model, year)\n",
    "        self.n_doors = n_doors\n",
    "        self.n_wheels = n_wheels\n",
    "\n",
    "class Bike(Vehicle):\n",
    "    def __init__(self, brand, model, year, n_wheels):\n",
    "        super().__init__(brand, model, year)\n",
    "        self.n_wheels = n_wheels\n",
    "\n",
    "car1 = Car(\"toyota\", \"yaris\", 2009, 4, 4)\n",
    "bike1 = Bike(\"honda\", \"rtx\", \"2006\", 2 )\n",
    "\n",
    "vehicles = [\n",
    "    car1,\n",
    "    bike1\n",
    "]\n",
    "\n",
    "for v in vehicles:\n",
    "        if isinstance(v, Vehicle):\n",
    "            print(f\"inspecting {v.brand} {v.model} ({type(v).__name__})\")\n",
    "\n",
    "\n",
    "\n",
    "\n"
   ]
  }
 ],
 "metadata": {
  "kernelspec": {
   "display_name": ".venv",
   "language": "python",
   "name": "python3"
  },
  "language_info": {
   "codemirror_mode": {
    "name": "ipython",
    "version": 3
   },
   "file_extension": ".py",
   "mimetype": "text/x-python",
   "name": "python",
   "nbconvert_exporter": "python",
   "pygments_lexer": "ipython3",
   "version": "3.13.3"
  }
 },
 "nbformat": 4,
 "nbformat_minor": 2
}
