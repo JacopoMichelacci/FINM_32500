{
 "cells": [
  {
   "cell_type": "code",
   "execution_count": null,
   "metadata": {},
   "outputs": [
    {
     "name": "stdout",
     "output_type": "stream",
     "text": [
      "total users:  2\n"
     ]
    }
   ],
   "source": [
    "from datetime import datetime\n",
    "\n",
    "class User():\n",
    "    user_cnt = 0\n",
    "\n",
    "    def __init__(self, username, email):\n",
    "        self.username = username\n",
    "        self.email = email\n",
    "        User.user_cnt += 1\n",
    "    \n",
    "    def display_user(self):\n",
    "        print(f\"Username: {self.username}, \\nEmail: {self.email}\")\n",
    "\n",
    "#obj\n",
    "user1 = User(\"danny04\", \"sburubu@gmail.com\")\n",
    "user2 = User(\"biribuz\", \"sburubu@gmail.com\")\n",
    "\n",
    "\n",
    "\n",
    "print(\"total users: \", User.user_cnt)\n",
    "\n"
   ]
  },
  {
   "cell_type": "code",
   "execution_count": null,
   "metadata": {},
   "outputs": [
    {
     "name": "stdout",
     "output_type": "stream",
     "text": [
      "logging transaction type: deposit of 200. New balance is: $700\n"
     ]
    }
   ],
   "source": [
    "class BankAccount():\n",
    "    MIN_BALANCE = 100\n",
    "\n",
    "    def __init__(self, owner, balance=0):\n",
    "        self.owner = owner\n",
    "        self.balance = balance\n",
    "\n",
    "    def deposit(self, amt):\n",
    "        if self.is_valid_amt(amt):\n",
    "            self.balance += amt\n",
    "            self.__log_transaction(\"deposit\", amt)\n",
    "        else:\n",
    "            print(f\"Deposits must be > 0\")\n",
    "\n",
    "    def is_valid_amt(self, amt):\n",
    "        return amt > 0\n",
    "\n",
    "    def __log_transaction(self, transaction_type, amt):\n",
    "        print(f\"logging transaction type: {transaction_type} of ${amt}. New balance is: ${self.balance}\")\n",
    "    \n",
    "    @staticmethod\n",
    "    def is_valid_interest_rate(rate):\n",
    "        return (0 <= rate <= 5)     #returns true or false\n",
    "    \n",
    "user1 = BankAccount(\"alice\", 500)\n",
    "user1.deposit(200)\n",
    "\n",
    "\n",
    "\n",
    "\n",
    "    \n"
   ]
  }
 ],
 "metadata": {
  "kernelspec": {
   "display_name": ".venv",
   "language": "python",
   "name": "python3"
  },
  "language_info": {
   "codemirror_mode": {
    "name": "ipython",
    "version": 3
   },
   "file_extension": ".py",
   "mimetype": "text/x-python",
   "name": "python",
   "nbconvert_exporter": "python",
   "pygments_lexer": "ipython3",
   "version": "3.13.3"
  }
 },
 "nbformat": 4,
 "nbformat_minor": 2
}
