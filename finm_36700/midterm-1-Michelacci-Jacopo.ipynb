{
 "cells": [
  {
   "cell_type": "markdown",
   "metadata": {},
   "source": [
    "# Open Midterm 1\n",
    "\n",
    "## FINM 36700 - 2025\n",
    "\n",
    "### UChicago Financial Mathematics\n",
    "\n",
    "* Mark Hendricks\n",
    "* hendricks@uchicago.edu"
   ]
  },
  {
   "cell_type": "markdown",
   "metadata": {},
   "source": [
    "***"
   ]
  },
  {
   "cell_type": "markdown",
   "metadata": {},
   "source": [
    "# Instructions"
   ]
  },
  {
   "cell_type": "markdown",
   "metadata": {},
   "source": [
    "## Please note the following:\n",
    "\n",
    "Points\n",
    "* For every minute late you submit the exam, you will lose one point.\n",
    "\n",
    "Rules\n",
    "* The exam is open-material, closed-communication.\n",
    "\n",
    "Advice\n",
    "* If you find any question to be unclear, state your interpretation and proceed. We will only answer questions of interpretation if there is a typo, error, etc."
   ]
  },
  {
   "cell_type": "markdown",
   "metadata": {},
   "source": [
    "## Data\n",
    "\n",
    "**All data files are found in at the course web-book.**\n",
    "\n",
    "https://markhendricks.github.io/finm-portfolio/. "
   ]
  },
  {
   "cell_type": "markdown",
   "metadata": {},
   "source": [
    "## Scoring\n",
    "\n",
    "| Problem | Points |\n",
    "|---------|--------|\n",
    "| 1       | 70     |\n",
    "| 2       | 30     |\n",
    "\n",
    "**Numbered problems are worth 5pts unless specified otherwise.**"
   ]
  },
  {
   "cell_type": "markdown",
   "metadata": {},
   "source": [
    "***"
   ]
  },
  {
   "cell_type": "markdown",
   "metadata": {},
   "source": [
    "## Submitting your Exam"
   ]
  },
  {
   "cell_type": "markdown",
   "metadata": {},
   "source": [
    "Your submitted file (ipynb or .zip) must be named in the format...\n",
    "* `midterm-1-LASTNAME-FIRSTNAME.ipynb`\n",
    "* `midterm-1-LASTNAME-FIRSTNAME.zip`\n",
    "\n",
    "Submit the exam via\n",
    "* Canvas at Assignments/Midterm 1\n",
    "* If there is any trouble with Canvas, or for a backup, submit it at the course web-book\n",
    "https://markhendricks.github.io/finm-portfolio/. \n",
    "\n",
    "Your submission must be complete.\n",
    "* If we can't run the notebook to reproduce, it is not complete.\n",
    "\n",
    "You should either...\n",
    "* include all helper functions at the top of this notebook in the `Solution Functions` sections.\n",
    "* submit a zipped folder containing the solution functions"
   ]
  },
  {
   "cell_type": "markdown",
   "metadata": {},
   "source": [
    "__Exam Submission Structure:__\n",
    "\n",
    "If you are submitting a zipped folder (because you cannot make the ipynb stand-alone) then use this structure...\n",
    "\n",
    "```plaintext\n",
    "exam-open-LASTNAME-FIRSTNAME.zip/\n",
    "│── exam-open.ipynb\n",
    "│── data/\n",
    "│   ├── example_data.csv\n",
    "│── modules/\n",
    "│   ├── my_functions.py"
   ]
  },
  {
   "cell_type": "markdown",
   "metadata": {},
   "source": [
    "***"
   ]
  },
  {
   "cell_type": "markdown",
   "metadata": {},
   "source": [
    "## Your Functions\n",
    "\n",
    "Please put all functions needed to run the ipynb here.\n",
    "\n",
    "* We must be able to run the notebook!\n",
    "* If you can't get all the functions into this ipynb, then make sure to zip your ipynb and supporting materials and submit the zipped folder.\n",
    "* But most of you should be able to submit a single, stand-alone ipynb."
   ]
  },
  {
   "cell_type": "code",
   "execution_count": null,
   "metadata": {},
   "outputs": [],
   "source": []
  },
  {
   "cell_type": "markdown",
   "metadata": {},
   "source": [
    "***"
   ]
  },
  {
   "cell_type": "markdown",
   "metadata": {},
   "source": [
    "## Citations\n",
    "\n",
    "### AI\n",
    "\n",
    "List any AI tools used in the exam. No need to list prompts, but rather just AI models or IDE integrations.\n",
    "\n",
    "I expect most students will have something to list here.\n"
   ]
  },
  {
   "cell_type": "markdown",
   "metadata": {},
   "source": [
    "\n",
    "I used OpenAI’s ChatGPT (GPT-5) through the ChatGPT interface to assist with:\n",
    "- Debugging Python and pandas code.\n",
    "- Structuring clean and reproducible Jupyter Notebook workflows.\n",
    "- Clarifying statistical and financial concepts (e.g., tangency portfolio, VaR/CVaR).\n",
    "- Reviewing and polishing written explanations for clarity and conciseness.\n",
    "\n",
    "All code and interpretations were reviewed, verified, and run independently by me before submission.\n",
    "\n",
    "\n"
   ]
  },
  {
   "cell_type": "markdown",
   "metadata": {},
   "source": [
    "### Other resources\n",
    "\n",
    "Please list any other resources **aside from course materials** from which you used substantially. (No need to list every Google search; just materials from which you used substantially or for specific, original content.) \n",
    "\n",
    "I expect most students will not have anything to list here."
   ]
  },
  {
   "cell_type": "markdown",
   "metadata": {},
   "source": [
    "* \n",
    "* \n",
    "* "
   ]
  },
  {
   "cell_type": "markdown",
   "metadata": {},
   "source": [
    "***"
   ]
  },
  {
   "cell_type": "markdown",
   "metadata": {},
   "source": [
    "# Your Name\n",
    "\n",
    "List your name and CNetID"
   ]
  },
  {
   "cell_type": "markdown",
   "metadata": {},
   "source": [
    "* Name: Jacopo Michelacci\n",
    "* CNetID: 12507213"
   ]
  },
  {
   "cell_type": "markdown",
   "metadata": {},
   "source": [
    "***"
   ]
  },
  {
   "cell_type": "markdown",
   "metadata": {},
   "source": [
    "# 1. Portfolio Analysis"
   ]
  },
  {
   "cell_type": "markdown",
   "metadata": {},
   "source": [
    "### Data\n",
    "\n",
    "Use the data in `data/midterm_1_stock_returns.xlsx`.\n",
    "\n",
    "The returns are...\n",
    "* excess returns\n",
    "* weekly\n",
    "* through `May 2025`\n",
    "\n",
    "It has returns for\n",
    "* `25` single-name equities\n",
    "* `SPY`"
   ]
  },
  {
   "cell_type": "code",
   "execution_count": 1,
   "metadata": {},
   "outputs": [
    {
     "data": {
      "text/html": [
       "<div>\n",
       "<style scoped>\n",
       "    .dataframe tbody tr th:only-of-type {\n",
       "        vertical-align: middle;\n",
       "    }\n",
       "\n",
       "    .dataframe tbody tr th {\n",
       "        vertical-align: top;\n",
       "    }\n",
       "\n",
       "    .dataframe thead th {\n",
       "        text-align: right;\n",
       "    }\n",
       "</style>\n",
       "<table border=\"1\" class=\"dataframe\">\n",
       "  <thead>\n",
       "    <tr style=\"text-align: right;\">\n",
       "      <th></th>\n",
       "      <th>ADSK</th>\n",
       "      <th>AOS</th>\n",
       "      <th>BKNG</th>\n",
       "      <th>CBRE</th>\n",
       "      <th>CCI</th>\n",
       "      <th>CF</th>\n",
       "      <th>CHRW</th>\n",
       "      <th>DE</th>\n",
       "      <th>DGX</th>\n",
       "      <th>DTE</th>\n",
       "      <th>...</th>\n",
       "      <th>MRK</th>\n",
       "      <th>MTD</th>\n",
       "      <th>PG</th>\n",
       "      <th>PNR</th>\n",
       "      <th>SBAC</th>\n",
       "      <th>STE</th>\n",
       "      <th>TTWO</th>\n",
       "      <th>VTRS</th>\n",
       "      <th>WM</th>\n",
       "      <th>WMT</th>\n",
       "    </tr>\n",
       "    <tr>\n",
       "      <th>date</th>\n",
       "      <th></th>\n",
       "      <th></th>\n",
       "      <th></th>\n",
       "      <th></th>\n",
       "      <th></th>\n",
       "      <th></th>\n",
       "      <th></th>\n",
       "      <th></th>\n",
       "      <th></th>\n",
       "      <th></th>\n",
       "      <th></th>\n",
       "      <th></th>\n",
       "      <th></th>\n",
       "      <th></th>\n",
       "      <th></th>\n",
       "      <th></th>\n",
       "      <th></th>\n",
       "      <th></th>\n",
       "      <th></th>\n",
       "      <th></th>\n",
       "      <th></th>\n",
       "    </tr>\n",
       "  </thead>\n",
       "  <tbody>\n",
       "    <tr>\n",
       "      <th>2015-01-09</th>\n",
       "      <td>-0.021166</td>\n",
       "      <td>-0.008927</td>\n",
       "      <td>-0.078893</td>\n",
       "      <td>-0.000577</td>\n",
       "      <td>0.026536</td>\n",
       "      <td>0.069378</td>\n",
       "      <td>-0.024107</td>\n",
       "      <td>-0.030450</td>\n",
       "      <td>-0.003635</td>\n",
       "      <td>-0.002414</td>\n",
       "      <td>...</td>\n",
       "      <td>0.093897</td>\n",
       "      <td>-0.008843</td>\n",
       "      <td>-0.002101</td>\n",
       "      <td>-0.023393</td>\n",
       "      <td>-0.001091</td>\n",
       "      <td>0.013659</td>\n",
       "      <td>-0.008009</td>\n",
       "      <td>-0.009050</td>\n",
       "      <td>-0.004251</td>\n",
       "      <td>0.040160</td>\n",
       "    </tr>\n",
       "    <tr>\n",
       "      <th>2015-01-16</th>\n",
       "      <td>-0.024369</td>\n",
       "      <td>-0.015313</td>\n",
       "      <td>-0.041579</td>\n",
       "      <td>-0.045022</td>\n",
       "      <td>0.012374</td>\n",
       "      <td>0.001515</td>\n",
       "      <td>0.019290</td>\n",
       "      <td>0.019265</td>\n",
       "      <td>0.019738</td>\n",
       "      <td>0.036405</td>\n",
       "      <td>...</td>\n",
       "      <td>0.007512</td>\n",
       "      <td>-0.024325</td>\n",
       "      <td>0.011081</td>\n",
       "      <td>-0.009830</td>\n",
       "      <td>-0.012042</td>\n",
       "      <td>-0.020590</td>\n",
       "      <td>0.048080</td>\n",
       "      <td>0.002865</td>\n",
       "      <td>0.013778</td>\n",
       "      <td>-0.028873</td>\n",
       "    </tr>\n",
       "    <tr>\n",
       "      <th>2015-01-23</th>\n",
       "      <td>0.023571</td>\n",
       "      <td>0.016282</td>\n",
       "      <td>0.029527</td>\n",
       "      <td>-0.004231</td>\n",
       "      <td>0.050829</td>\n",
       "      <td>0.013841</td>\n",
       "      <td>0.009121</td>\n",
       "      <td>0.012027</td>\n",
       "      <td>0.016490</td>\n",
       "      <td>0.014229</td>\n",
       "      <td>...</td>\n",
       "      <td>-0.008567</td>\n",
       "      <td>0.037842</td>\n",
       "      <td>-0.005804</td>\n",
       "      <td>-0.003565</td>\n",
       "      <td>0.080951</td>\n",
       "      <td>0.023033</td>\n",
       "      <td>0.022253</td>\n",
       "      <td>-0.031965</td>\n",
       "      <td>0.014548</td>\n",
       "      <td>0.020053</td>\n",
       "    </tr>\n",
       "    <tr>\n",
       "      <th>2015-01-30</th>\n",
       "      <td>-0.071920</td>\n",
       "      <td>0.069487</td>\n",
       "      <td>-0.027466</td>\n",
       "      <td>-0.018513</td>\n",
       "      <td>-0.003684</td>\n",
       "      <td>0.012031</td>\n",
       "      <td>-0.039124</td>\n",
       "      <td>-0.035766</td>\n",
       "      <td>0.002540</td>\n",
       "      <td>-0.017317</td>\n",
       "      <td>...</td>\n",
       "      <td>-0.035366</td>\n",
       "      <td>0.002970</td>\n",
       "      <td>-0.064277</td>\n",
       "      <td>-0.033041</td>\n",
       "      <td>-0.014190</td>\n",
       "      <td>-0.014506</td>\n",
       "      <td>-0.004689</td>\n",
       "      <td>-0.019552</td>\n",
       "      <td>-0.029622</td>\n",
       "      <td>-0.039883</td>\n",
       "    </tr>\n",
       "    <tr>\n",
       "      <th>2015-02-06</th>\n",
       "      <td>0.056754</td>\n",
       "      <td>0.037577</td>\n",
       "      <td>0.012818</td>\n",
       "      <td>0.048856</td>\n",
       "      <td>0.001733</td>\n",
       "      <td>-0.028619</td>\n",
       "      <td>-0.009970</td>\n",
       "      <td>0.044489</td>\n",
       "      <td>-0.020120</td>\n",
       "      <td>-0.049186</td>\n",
       "      <td>...</td>\n",
       "      <td>-0.024717</td>\n",
       "      <td>0.016318</td>\n",
       "      <td>0.015660</td>\n",
       "      <td>0.040609</td>\n",
       "      <td>0.010108</td>\n",
       "      <td>0.026985</td>\n",
       "      <td>-0.031460</td>\n",
       "      <td>0.013922</td>\n",
       "      <td>0.019639</td>\n",
       "      <td>0.027653</td>\n",
       "    </tr>\n",
       "  </tbody>\n",
       "</table>\n",
       "<p>5 rows × 25 columns</p>\n",
       "</div>"
      ],
      "text/plain": [
       "                ADSK       AOS      BKNG      CBRE       CCI        CF  \\\n",
       "date                                                                     \n",
       "2015-01-09 -0.021166 -0.008927 -0.078893 -0.000577  0.026536  0.069378   \n",
       "2015-01-16 -0.024369 -0.015313 -0.041579 -0.045022  0.012374  0.001515   \n",
       "2015-01-23  0.023571  0.016282  0.029527 -0.004231  0.050829  0.013841   \n",
       "2015-01-30 -0.071920  0.069487 -0.027466 -0.018513 -0.003684  0.012031   \n",
       "2015-02-06  0.056754  0.037577  0.012818  0.048856  0.001733 -0.028619   \n",
       "\n",
       "                CHRW        DE       DGX       DTE  ...       MRK       MTD  \\\n",
       "date                                                ...                       \n",
       "2015-01-09 -0.024107 -0.030450 -0.003635 -0.002414  ...  0.093897 -0.008843   \n",
       "2015-01-16  0.019290  0.019265  0.019738  0.036405  ...  0.007512 -0.024325   \n",
       "2015-01-23  0.009121  0.012027  0.016490  0.014229  ... -0.008567  0.037842   \n",
       "2015-01-30 -0.039124 -0.035766  0.002540 -0.017317  ... -0.035366  0.002970   \n",
       "2015-02-06 -0.009970  0.044489 -0.020120 -0.049186  ... -0.024717  0.016318   \n",
       "\n",
       "                  PG       PNR      SBAC       STE      TTWO      VTRS  \\\n",
       "date                                                                     \n",
       "2015-01-09 -0.002101 -0.023393 -0.001091  0.013659 -0.008009 -0.009050   \n",
       "2015-01-16  0.011081 -0.009830 -0.012042 -0.020590  0.048080  0.002865   \n",
       "2015-01-23 -0.005804 -0.003565  0.080951  0.023033  0.022253 -0.031965   \n",
       "2015-01-30 -0.064277 -0.033041 -0.014190 -0.014506 -0.004689 -0.019552   \n",
       "2015-02-06  0.015660  0.040609  0.010108  0.026985 -0.031460  0.013922   \n",
       "\n",
       "                  WM       WMT  \n",
       "date                            \n",
       "2015-01-09 -0.004251  0.040160  \n",
       "2015-01-16  0.013778 -0.028873  \n",
       "2015-01-23  0.014548  0.020053  \n",
       "2015-01-30 -0.029622 -0.039883  \n",
       "2015-02-06  0.019639  0.027653  \n",
       "\n",
       "[5 rows x 25 columns]"
      ]
     },
     "metadata": {},
     "output_type": "display_data"
    },
    {
     "data": {
      "text/html": [
       "<div>\n",
       "<style scoped>\n",
       "    .dataframe tbody tr th:only-of-type {\n",
       "        vertical-align: middle;\n",
       "    }\n",
       "\n",
       "    .dataframe tbody tr th {\n",
       "        vertical-align: top;\n",
       "    }\n",
       "\n",
       "    .dataframe thead th {\n",
       "        text-align: right;\n",
       "    }\n",
       "</style>\n",
       "<table border=\"1\" class=\"dataframe\">\n",
       "  <thead>\n",
       "    <tr style=\"text-align: right;\">\n",
       "      <th></th>\n",
       "      <th>SPY</th>\n",
       "    </tr>\n",
       "    <tr>\n",
       "      <th>date</th>\n",
       "      <th></th>\n",
       "    </tr>\n",
       "  </thead>\n",
       "  <tbody>\n",
       "    <tr>\n",
       "      <th>2025-04-25</th>\n",
       "      <td>0.046029</td>\n",
       "    </tr>\n",
       "    <tr>\n",
       "      <th>2025-05-02</th>\n",
       "      <td>0.029275</td>\n",
       "    </tr>\n",
       "    <tr>\n",
       "      <th>2025-05-09</th>\n",
       "      <td>-0.004270</td>\n",
       "    </tr>\n",
       "    <tr>\n",
       "      <th>2025-05-16</th>\n",
       "      <td>0.052911</td>\n",
       "    </tr>\n",
       "    <tr>\n",
       "      <th>2025-05-23</th>\n",
       "      <td>-0.025395</td>\n",
       "    </tr>\n",
       "  </tbody>\n",
       "</table>\n",
       "</div>"
      ],
      "text/plain": [
       "                 SPY\n",
       "date                \n",
       "2025-04-25  0.046029\n",
       "2025-05-02  0.029275\n",
       "2025-05-09 -0.004270\n",
       "2025-05-16  0.052911\n",
       "2025-05-23 -0.025395"
      ]
     },
     "metadata": {},
     "output_type": "display_data"
    }
   ],
   "source": [
    "import pandas as pd\n",
    "\n",
    "DATAFILE_STOCKS = '../data/midterm_1_stock_returns.xlsx'\n",
    "\n",
    "SHEET = 'stock rets'\n",
    "rets = pd.read_excel(DATAFILE_STOCKS, sheet_name=SHEET, index_col='date', parse_dates=['date'])\n",
    "\n",
    "SHEET = 'benchmark rets'\n",
    "spy = pd.read_excel(DATAFILE_STOCKS, sheet_name=SHEET, index_col='date', parse_dates=['date'])\n",
    "\n",
    "display(rets.head())\n",
    "display(spy.tail())"
   ]
  },
  {
   "cell_type": "markdown",
   "metadata": {},
   "source": [
    "## 1 Performance Stats"
   ]
  },
  {
   "cell_type": "markdown",
   "metadata": {},
   "source": [
    "#### 1.1. Calculate the Sharpe ratio for each stock during the sample period\n",
    "* Recall: the sample period ranges from **February 2018 to December 2024 (inclusive)**.\n",
    "* Report the top 5 stocks with the highest Sharpe ratios."
   ]
  },
  {
   "cell_type": "code",
   "execution_count": 2,
   "metadata": {},
   "outputs": [
    {
     "name": "stdout",
     "output_type": "stream",
     "text": [
      "Top 5 Stocks by Sharpe Ratio (2018–2024):\n",
      "\n",
      "WM       0.9298\n",
      "GOOGL    0.8548\n",
      "INTU     0.8437\n",
      "TTWO     0.7855\n",
      "WMT      0.7734\n",
      "dtype: float64\n"
     ]
    }
   ],
   "source": [
    "# Filter sample period\n",
    "rets_intact = rets\n",
    "rets = rets.loc[\"2015-01-01\":\"2024-12-31\"]\n",
    "\n",
    "# Compute annualized mean and volatility\n",
    "mean_annual = rets.mean() * 52\n",
    "vol_annual = rets.std() * (52 ** 0.5)\n",
    "\n",
    "sharpe_subs = mean_annual / vol_annual\n",
    "\n",
    "# Top 5 stocks\n",
    "top5 = sharpe_subs.sort_values(ascending=False).head(5)\n",
    "\n",
    "print(\"Top 5 Stocks by Sharpe Ratio (2018–2024):\\n\")\n",
    "print(top5.round(4))\n"
   ]
  },
  {
   "cell_type": "markdown",
   "metadata": {},
   "source": [
    "#### 1.2. Display the correlation matrix for the first ten stocks (columns) over the sample period.\n",
    "* On average, are these stocks highly correlated? Explain.\n",
    "* Which of these stocks offer the best diversification benefits?"
   ]
  },
  {
   "cell_type": "code",
   "execution_count": 3,
   "metadata": {},
   "outputs": [
    {
     "name": "stdout",
     "output_type": "stream",
     "text": [
      "Correlation Matrix (first 10 stocks):\n",
      "\n"
     ]
    },
    {
     "data": {
      "text/html": [
       "<div>\n",
       "<style scoped>\n",
       "    .dataframe tbody tr th:only-of-type {\n",
       "        vertical-align: middle;\n",
       "    }\n",
       "\n",
       "    .dataframe tbody tr th {\n",
       "        vertical-align: top;\n",
       "    }\n",
       "\n",
       "    .dataframe thead th {\n",
       "        text-align: right;\n",
       "    }\n",
       "</style>\n",
       "<table border=\"1\" class=\"dataframe\">\n",
       "  <thead>\n",
       "    <tr style=\"text-align: right;\">\n",
       "      <th></th>\n",
       "      <th>ADSK</th>\n",
       "      <th>AOS</th>\n",
       "      <th>BKNG</th>\n",
       "      <th>CBRE</th>\n",
       "      <th>CCI</th>\n",
       "      <th>CF</th>\n",
       "      <th>CHRW</th>\n",
       "      <th>DE</th>\n",
       "      <th>DGX</th>\n",
       "      <th>DTE</th>\n",
       "    </tr>\n",
       "  </thead>\n",
       "  <tbody>\n",
       "    <tr>\n",
       "      <th>ADSK</th>\n",
       "      <td>1.0000</td>\n",
       "      <td>0.4015</td>\n",
       "      <td>0.5023</td>\n",
       "      <td>0.4489</td>\n",
       "      <td>0.3203</td>\n",
       "      <td>0.1988</td>\n",
       "      <td>0.2690</td>\n",
       "      <td>0.3254</td>\n",
       "      <td>0.2902</td>\n",
       "      <td>0.1882</td>\n",
       "    </tr>\n",
       "    <tr>\n",
       "      <th>AOS</th>\n",
       "      <td>0.4015</td>\n",
       "      <td>1.0000</td>\n",
       "      <td>0.4582</td>\n",
       "      <td>0.5816</td>\n",
       "      <td>0.3965</td>\n",
       "      <td>0.3009</td>\n",
       "      <td>0.3799</td>\n",
       "      <td>0.5267</td>\n",
       "      <td>0.3913</td>\n",
       "      <td>0.3229</td>\n",
       "    </tr>\n",
       "    <tr>\n",
       "      <th>BKNG</th>\n",
       "      <td>0.5023</td>\n",
       "      <td>0.4582</td>\n",
       "      <td>1.0000</td>\n",
       "      <td>0.5528</td>\n",
       "      <td>0.2146</td>\n",
       "      <td>0.3053</td>\n",
       "      <td>0.2336</td>\n",
       "      <td>0.4430</td>\n",
       "      <td>0.2454</td>\n",
       "      <td>0.2926</td>\n",
       "    </tr>\n",
       "    <tr>\n",
       "      <th>CBRE</th>\n",
       "      <td>0.4489</td>\n",
       "      <td>0.5816</td>\n",
       "      <td>0.5528</td>\n",
       "      <td>1.0000</td>\n",
       "      <td>0.3977</td>\n",
       "      <td>0.4109</td>\n",
       "      <td>0.2359</td>\n",
       "      <td>0.4627</td>\n",
       "      <td>0.4050</td>\n",
       "      <td>0.4804</td>\n",
       "    </tr>\n",
       "    <tr>\n",
       "      <th>CCI</th>\n",
       "      <td>0.3203</td>\n",
       "      <td>0.3965</td>\n",
       "      <td>0.2146</td>\n",
       "      <td>0.3977</td>\n",
       "      <td>1.0000</td>\n",
       "      <td>0.1274</td>\n",
       "      <td>0.2161</td>\n",
       "      <td>0.2363</td>\n",
       "      <td>0.3993</td>\n",
       "      <td>0.5351</td>\n",
       "    </tr>\n",
       "    <tr>\n",
       "      <th>CF</th>\n",
       "      <td>0.1988</td>\n",
       "      <td>0.3009</td>\n",
       "      <td>0.3053</td>\n",
       "      <td>0.4109</td>\n",
       "      <td>0.1274</td>\n",
       "      <td>1.0000</td>\n",
       "      <td>0.2432</td>\n",
       "      <td>0.4646</td>\n",
       "      <td>0.2518</td>\n",
       "      <td>0.2722</td>\n",
       "    </tr>\n",
       "    <tr>\n",
       "      <th>CHRW</th>\n",
       "      <td>0.2690</td>\n",
       "      <td>0.3799</td>\n",
       "      <td>0.2336</td>\n",
       "      <td>0.2359</td>\n",
       "      <td>0.2161</td>\n",
       "      <td>0.2432</td>\n",
       "      <td>1.0000</td>\n",
       "      <td>0.3259</td>\n",
       "      <td>0.1953</td>\n",
       "      <td>0.2198</td>\n",
       "    </tr>\n",
       "    <tr>\n",
       "      <th>DE</th>\n",
       "      <td>0.3254</td>\n",
       "      <td>0.5267</td>\n",
       "      <td>0.4430</td>\n",
       "      <td>0.4627</td>\n",
       "      <td>0.2363</td>\n",
       "      <td>0.4646</td>\n",
       "      <td>0.3259</td>\n",
       "      <td>1.0000</td>\n",
       "      <td>0.3050</td>\n",
       "      <td>0.3528</td>\n",
       "    </tr>\n",
       "    <tr>\n",
       "      <th>DGX</th>\n",
       "      <td>0.2902</td>\n",
       "      <td>0.3913</td>\n",
       "      <td>0.2454</td>\n",
       "      <td>0.4050</td>\n",
       "      <td>0.3993</td>\n",
       "      <td>0.2518</td>\n",
       "      <td>0.1953</td>\n",
       "      <td>0.3050</td>\n",
       "      <td>1.0000</td>\n",
       "      <td>0.4816</td>\n",
       "    </tr>\n",
       "    <tr>\n",
       "      <th>DTE</th>\n",
       "      <td>0.1882</td>\n",
       "      <td>0.3229</td>\n",
       "      <td>0.2926</td>\n",
       "      <td>0.4804</td>\n",
       "      <td>0.5351</td>\n",
       "      <td>0.2722</td>\n",
       "      <td>0.2198</td>\n",
       "      <td>0.3528</td>\n",
       "      <td>0.4816</td>\n",
       "      <td>1.0000</td>\n",
       "    </tr>\n",
       "  </tbody>\n",
       "</table>\n",
       "</div>"
      ],
      "text/plain": [
       "        ADSK     AOS    BKNG    CBRE     CCI      CF    CHRW      DE     DGX  \\\n",
       "ADSK  1.0000  0.4015  0.5023  0.4489  0.3203  0.1988  0.2690  0.3254  0.2902   \n",
       "AOS   0.4015  1.0000  0.4582  0.5816  0.3965  0.3009  0.3799  0.5267  0.3913   \n",
       "BKNG  0.5023  0.4582  1.0000  0.5528  0.2146  0.3053  0.2336  0.4430  0.2454   \n",
       "CBRE  0.4489  0.5816  0.5528  1.0000  0.3977  0.4109  0.2359  0.4627  0.4050   \n",
       "CCI   0.3203  0.3965  0.2146  0.3977  1.0000  0.1274  0.2161  0.2363  0.3993   \n",
       "CF    0.1988  0.3009  0.3053  0.4109  0.1274  1.0000  0.2432  0.4646  0.2518   \n",
       "CHRW  0.2690  0.3799  0.2336  0.2359  0.2161  0.2432  1.0000  0.3259  0.1953   \n",
       "DE    0.3254  0.5267  0.4430  0.4627  0.2363  0.4646  0.3259  1.0000  0.3050   \n",
       "DGX   0.2902  0.3913  0.2454  0.4050  0.3993  0.2518  0.1953  0.3050  1.0000   \n",
       "DTE   0.1882  0.3229  0.2926  0.4804  0.5351  0.2722  0.2198  0.3528  0.4816   \n",
       "\n",
       "         DTE  \n",
       "ADSK  0.1882  \n",
       "AOS   0.3229  \n",
       "BKNG  0.2926  \n",
       "CBRE  0.4804  \n",
       "CCI   0.5351  \n",
       "CF    0.2722  \n",
       "CHRW  0.2198  \n",
       "DE    0.3528  \n",
       "DGX   0.4816  \n",
       "DTE   1.0000  "
      ]
     },
     "metadata": {},
     "output_type": "display_data"
    },
    {
     "name": "stdout",
     "output_type": "stream",
     "text": [
      "\n",
      "Average correlation among first 10 stocks: 0.347\n"
     ]
    }
   ],
   "source": [
    "import numpy as np\n",
    "\n",
    "# First 10 stocks\n",
    "corr_matrix = rets.iloc[:, :10].corr()\n",
    "\n",
    "print(\"Correlation Matrix (first 10 stocks):\\n\")\n",
    "display(corr_matrix.round(4))\n",
    "\n",
    "# Average correlation\n",
    "avg_corr = corr_matrix.where(~np.eye(corr_matrix.shape[0], dtype=bool)).mean().mean()\n",
    "print(f\"\\nAverage correlation among first 10 stocks: {avg_corr:.3f}\")"
   ]
  },
  {
   "cell_type": "markdown",
   "metadata": {},
   "source": [
    "## 2. In-Sample Tangency (excess returns)"
   ]
  },
  {
   "cell_type": "markdown",
   "metadata": {},
   "source": [
    "#### Note\n",
    "Consider `in-sample` to be all the data through the end of `2024`."
   ]
  },
  {
   "cell_type": "markdown",
   "metadata": {},
   "source": [
    "#### 2.1. Construct the tangency portfolio\n",
    "\n",
    "Using just the in-sample data (through `2024`), calculate the tangency portfolio weights, assuming we have excess returns (existence of a risk-free rate.)\n",
    "   * Display the ten largest portfolio weights.\n",
    "   * Plot the Sharpe ratios against the portfolio weights. "
   ]
  },
  {
   "cell_type": "code",
   "execution_count": 4,
   "metadata": {},
   "outputs": [
    {
     "name": "stdout",
     "output_type": "stream",
     "text": [
      "Top 10 Tangency Portfolio Weights:\n",
      "\n",
      "DTE      0.4524\n",
      "WM       0.3649\n",
      "GOOGL    0.2057\n",
      "TTWO     0.1989\n",
      "DE       0.1915\n",
      "WMT      0.1851\n",
      "MRK      0.1685\n",
      "CBRE     0.1670\n",
      "PG       0.0880\n",
      "INTU     0.0845\n",
      "Name: Tangency Weights, dtype: float64\n"
     ]
    },
    {
     "data": {
      "image/png": "[encoded data removed]",
      "text/plain": [
       "<Figure size 600x400 with 1 Axes>"
      ]
     },
     "metadata": {},
     "output_type": "display_data"
    }
   ],
   "source": [
    "import matplotlib.pyplot as plt\n",
    "\n",
    "# In-sample data through 2024\n",
    "rets_in = rets.loc[:'2024-12-31']\n",
    "\n",
    "# Mean vector and covariance matrix\n",
    "mu = rets_in.mean().values * 52          # annualized mean\n",
    "Sigma = rets_in.cov().values * 52        # annualized covariance\n",
    "\n",
    "# Tangency portfolio weights (since data = excess returns)\n",
    "w_tan = np.linalg.inv(Sigma) @ mu\n",
    "w_tan = w_tan / w_tan.sum()              # normalize to sum to 1\n",
    "\n",
    "# Create DataFrame\n",
    "w_tan_df = pd.Series(w_tan, index=rets.columns, name=\"Tangency Weights\")\n",
    "top10 = w_tan_df.sort_values(ascending=False).head(10)\n",
    "\n",
    "print(\"Top 10 Tangency Portfolio Weights:\\n\")\n",
    "print(top10.round(4))\n",
    "\n",
    "# Compute individual Sharpe ratios\n",
    "sharpe_indiv = mu / np.sqrt(np.diag(Sigma))\n",
    "sharpe_df = pd.Series(sharpe_indiv, index=rets.columns)\n",
    "\n",
    "# Plot Sharpe ratios vs weights\n",
    "plt.figure(figsize=(6,4))\n",
    "plt.scatter(sharpe_df, w_tan_df)\n",
    "plt.xlabel(\"Individual Sharpe Ratios\")\n",
    "plt.ylabel(\"Tangency Portfolio Weights\")\n",
    "plt.title(\"Sharpe Ratios vs Tangency Weights\")\n",
    "plt.grid(alpha=0.5)\n",
    "plt.show()\n",
    "\n",
    "\n"
   ]
  },
  {
   "cell_type": "markdown",
   "metadata": {},
   "source": [
    "#### 2.2.\n",
    "\n",
    "Compare the relationship between tangency portfolio weights and individual sharpe ratios."
   ]
  },
  {
   "cell_type": "markdown",
   "metadata": {},
   "source": [
    "\n",
    "The tangency portfolio weights are positively related to individual Sharpe ratios. Stocks with higher Sharpe ratios tend to receive larger portfolio weights, as expected from the theory of mean–variance optimization. Some low-Sharpe stocks have small or even negative weights, reflecting short positions to improve the portfolio’s overall Sharpe ratio."
   ]
  },
  {
   "cell_type": "markdown",
   "metadata": {},
   "source": [
    "#### 2.3. Performance of the Tangency\n",
    "\n",
    "Continue with the in-sample tangency portfolio constructed above, and analyze how it performs in-sample (through `2024`.)\n",
    "\n",
    "   Report the (annualized)\n",
    "   * mean\n",
    "   * volatility\n",
    "   * Sharpe ratio\n",
    "   * skewness (not annualized)\n",
    "   \n",
    "   Plot the cumulative return of the tangency portfolio over the sample period."
   ]
  },
  {
   "cell_type": "code",
   "execution_count": 5,
   "metadata": {},
   "outputs": [
    {
     "name": "stdout",
     "output_type": "stream",
     "text": [
      "Mean: 0.2993\n",
      "Volatility: 0.1811\n",
      "Sharpe Ratio: 1.6533\n",
      "Skewness: -0.0827\n"
     ]
    },
    {
     "data": {
      "image/png": "[encoded data removed]",
      "text/plain": [
       "<Figure size 600x400 with 1 Axes>"
      ]
     },
     "metadata": {},
     "output_type": "display_data"
    }
   ],
   "source": [
    "from scipy.stats import skew\n",
    "\n",
    "# Tangency portfolio returns\n",
    "r_tan = rets_in @ w_tan_df\n",
    "\n",
    "# Annualized stats\n",
    "mean_tan = r_tan.mean() * 52\n",
    "vol_tan = r_tan.std() * np.sqrt(52)\n",
    "sharpe_tan = mean_tan / vol_tan\n",
    "skew_tan = skew(r_tan)\n",
    "\n",
    "print(f\"Mean: {mean_tan:.4f}\")\n",
    "print(f\"Volatility: {vol_tan:.4f}\")\n",
    "print(f\"Sharpe Ratio: {sharpe_tan:.4f}\")\n",
    "print(f\"Skewness: {skew_tan:.4f}\")\n",
    "\n",
    "# Cumulative return plot\n",
    "(1 + r_tan).cumprod().plot(figsize=(6,4), grid=True, title=\"Tangency Portfolio Cumulative Return (In-Sample)\")\n",
    "plt.ylabel(\"Cumulative Return\")\n",
    "plt.xlabel(\"Date\")\n",
    "plt.show()\n",
    "\n",
    "\n"
   ]
  },
  {
   "cell_type": "markdown",
   "metadata": {},
   "source": [
    "## 3. Hedging the Tangency Portfolio\n",
    "\n",
    "Continue with the in-sample (through 2024) tangency returns calculated in the previous problem.\n",
    "\n",
    "#### 3.1.\n",
    "\n",
    "Compute portfolio returns and regress on `SPY` to get $\\hat{\\beta}$. \n",
    "\n",
    "Include an intercept in the regression.\n",
    "\n",
    "Report $\\hat{\\beta}$.\n",
    "\n",
    "#### 3.2. \n",
    "\n",
    "Calculate the returns to the hedged position.\n",
    "\n",
    "   Report the (annualized)\n",
    "   * mean\n",
    "   * volatility\n",
    "   * Sharpe ratio\n",
    "   * skewness (not annualized)\n",
    "   "
   ]
  },
  {
   "cell_type": "code",
   "execution_count": 6,
   "metadata": {},
   "outputs": [
    {
     "name": "stdout",
     "output_type": "stream",
     "text": [
      "Estimated Beta (β̂): 0.6048\n",
      "\n",
      "\n",
      "Hedged Portfolio Performance (In-Sample):\n",
      "\n",
      "Mean: 0.2160\n",
      "Volatility: 0.1499\n",
      "Sharpe Ratio: 1.4404\n",
      "Skewness: 0.1692\n"
     ]
    }
   ],
   "source": [
    "from scipy.stats import skew\n",
    "\n",
    "# Align both series on common dates\n",
    "r_tan = rets_in @ w_tan_df\n",
    "r_spy = spy.loc[:'2024-12-31']['SPY']\n",
    "r_tan, r_spy = r_tan.align(r_spy, join='inner')\n",
    "\n",
    "# OLS with intercept\n",
    "X = np.vstack([np.ones(len(r_spy)), r_spy]).T\n",
    "beta_hat = np.linalg.lstsq(X, r_tan, rcond=None)[0][1]\n",
    "\n",
    "print(f\"Estimated Beta (β̂): {beta_hat:.4f}\")\n",
    "\n",
    "# Hedged returns\n",
    "r_hedged = r_tan - beta_hat * r_spy\n",
    "\n",
    "# Annualized stats\n",
    "mean_h = r_hedged.mean() * 52\n",
    "vol_h = r_hedged.std() * (52 ** 0.5)\n",
    "sharpe_h = mean_h / vol_h\n",
    "skew_h = skew(r_hedged)\n",
    "\n",
    "print(\"\\n\\nHedged Portfolio Performance (In-Sample):\\n\")\n",
    "print(f\"Mean: {mean_h:.4f}\")\n",
    "print(f\"Volatility: {vol_h:.4f}\")\n",
    "print(f\"Sharpe Ratio: {sharpe_h:.4f}\")\n",
    "print(f\"Skewness: {skew_h:.4f}\")\n"
   ]
  },
  {
   "cell_type": "markdown",
   "metadata": {},
   "source": [
    "## 4. Out-of-Sample\n",
    "\n",
    "#### 4.1. Tangency Portfolio Performance: Out-of-Sample (OOS)\n",
    "\n",
    "Use the weights of the tangency portfolio calculated above.\n",
    "\n",
    "Compute the out-of-sample returns (`2025`), and just for this OOS portion, report the (annualized)\n",
    "* mean\n",
    "* volatility\n",
    "* Sharpe ratio\n",
    "* skewness (not annualized)\n",
    "   \n",
    "   \n",
    "#### 4.2. Cumulative performance\n",
    "\n",
    "* Include the OOS performance in the cumulative return plot (in addition to the in-sample performance).\n",
    "\n",
    "Show the plot."
   ]
  },
  {
   "cell_type": "code",
   "execution_count": 7,
   "metadata": {},
   "outputs": [
    {
     "name": "stdout",
     "output_type": "stream",
     "text": [
      "Out-of-Sample (2025) Tangency Portfolio Performance:\n",
      "\n",
      "Mean: 0.4346\n",
      "Volatility: 0.2169\n",
      "Sharpe Ratio: 2.0034\n",
      "Skewness: -0.2645\n"
     ]
    },
    {
     "data": {
      "image/png": "[encoded data removed]",
      "text/plain": [
       "<Figure size 600x400 with 1 Axes>"
      ]
     },
     "metadata": {},
     "output_type": "display_data"
    }
   ],
   "source": [
    "\n",
    "# 4.1: Out-of-sample period (2025)\n",
    "rets_oos = rets_intact.loc['2025-01-01':'2025-12-31']\n",
    "rets_oos = rets_oos[w_tan_df.index.intersection(rets_oos.columns)]\n",
    "r_tan_oos = rets_oos @ w_tan_df\n",
    "r_tan_oos = r_tan_oos.dropna()\n",
    "\n",
    "# Annualized OOS performance\n",
    "mean_oos = r_tan_oos.mean() * 52\n",
    "vol_oos = r_tan_oos.std() * np.sqrt(52)\n",
    "sharpe_oos = mean_oos / vol_oos\n",
    "skew_oos = skew(r_tan_oos)\n",
    "\n",
    "print(\"Out-of-Sample (2025) Tangency Portfolio Performance:\\n\")\n",
    "print(f\"Mean: {mean_oos:.4f}\")\n",
    "print(f\"Volatility: {vol_oos:.4f}\")\n",
    "print(f\"Sharpe Ratio: {sharpe_oos:.4f}\")\n",
    "print(f\"Skewness: {skew_oos:.4f}\")\n",
    "\n",
    "# 4.2: Combined cumulative return plot (In-Sample + OOS)\n",
    "r_tan_full = pd.concat([r_tan, r_tan_oos])\n",
    "cum_ret_full = (1 + r_tan_full).cumprod()\n",
    "\n",
    "plt.figure(figsize=(6,4))\n",
    "plt.plot(cum_ret_full.loc[:'2024-12-31'], label='In-Sample (2015–2024)')\n",
    "plt.plot(cum_ret_full.loc['2025-01-01':], label='Out-of-Sample (2025)', color='orange')\n",
    "plt.title(\"Tangency Portfolio Cumulative Return (In-Sample + Out-of-Sample)\")\n",
    "plt.ylabel(\"Cumulative Return\")\n",
    "plt.xlabel(\"Date\")\n",
    "plt.grid(alpha=0.5)\n",
    "plt.legend()\n",
    "plt.show()"
   ]
  },
  {
   "cell_type": "markdown",
   "metadata": {},
   "source": [
    "## 5. Optimizing Hedged Returns\n",
    "\n",
    "#### 5.1. Construct Market-Hedged Returns\n",
    "\n",
    "Active managers might optimize their portfolios using market-hedged returns to focus on alpha generation (maximize portion of returns orthogonal to the market). Market-hedged returns are the residuals from regressing each stock’s excess return on the market’s excess return (e.g., `SPY`), effectively removing market beta to isolate stock-specific (idiosyncratic) performance.\n",
    "\n",
    "* Regress each stock's excess return on the SPY index (quoted in excess return) over the sample period. \n",
    "* Include an intercept.\n",
    "* Report your betas."
   ]
  },
  {
   "cell_type": "code",
   "execution_count": 8,
   "metadata": {},
   "outputs": [
    {
     "name": "stdout",
     "output_type": "stream",
     "text": [
      "Market Betas:\n",
      "\n"
     ]
    },
    {
     "data": {
      "text/plain": [
       "ADSK     1.3461\n",
       "AOS      1.0506\n",
       "BKNG     1.2700\n",
       "CBRE     1.3251\n",
       "CCI      0.7375\n",
       "CF       0.9880\n",
       "CHRW     0.5943\n",
       "DE       1.1275\n",
       "DGX      0.7508\n",
       "DTE      0.6998\n",
       "ES       0.6769\n",
       "GD       0.9910\n",
       "GOOGL    1.0717\n",
       "INTU     1.2911\n",
       "MGM      1.8320\n",
       "MRK      0.4671\n",
       "MTD      1.0837\n",
       "PG       0.5545\n",
       "PNR      1.2990\n",
       "SBAC     0.8285\n",
       "STE      0.9219\n",
       "TTWO     0.7262\n",
       "VTRS     0.9692\n",
       "WM       0.6370\n",
       "WMT      0.5016\n",
       "Name: Beta, dtype: float64"
      ]
     },
     "metadata": {},
     "output_type": "display_data"
    }
   ],
   "source": [
    "# 5.1: Regress each stock's excess return on SPY to get betas and alphas\n",
    "r_spy = spy.loc[:'2024-12-31', 'SPY']\n",
    "r_spy = r_spy - r_spy.mean()  # center if needed\n",
    "r_spy, rets_in = r_spy.align(rets_in, join='inner')\n",
    "\n",
    "betas = {}\n",
    "alphas = {}\n",
    "\n",
    "for col in rets_in.columns:\n",
    "    X = np.vstack([np.ones(len(r_spy)), r_spy]).T\n",
    "    y = rets_in[col].values\n",
    "    coeffs = np.linalg.lstsq(X, y, rcond=None)[0]\n",
    "    alphas[col], betas[col] = coeffs[0], coeffs[1]\n",
    "\n",
    "betas_df = pd.Series(betas, name='Beta')\n",
    "alphas_df = pd.Series(alphas, name='Alpha')\n",
    "\n",
    "print(\"Market Betas:\\n\")\n",
    "display(betas_df.round(4))\n"
   ]
  },
  {
   "cell_type": "markdown",
   "metadata": {},
   "source": [
    "#### 5.2. The residuals\n",
    "\n",
    "Save the residuals from each regression as the market-hedged returns. \n",
    "\n",
    "Report the `.tail()` (last 5 observations) of the residual dataframe."
   ]
  },
  {
   "cell_type": "code",
   "execution_count": 9,
   "metadata": {},
   "outputs": [
    {
     "name": "stdout",
     "output_type": "stream",
     "text": [
      "Market-Hedged Returns (Residuals) - Last 5 Observations:\n",
      "\n"
     ]
    },
    {
     "data": {
      "text/html": [
       "<div>\n",
       "<style scoped>\n",
       "    .dataframe tbody tr th:only-of-type {\n",
       "        vertical-align: middle;\n",
       "    }\n",
       "\n",
       "    .dataframe tbody tr th {\n",
       "        vertical-align: top;\n",
       "    }\n",
       "\n",
       "    .dataframe thead th {\n",
       "        text-align: right;\n",
       "    }\n",
       "</style>\n",
       "<table border=\"1\" class=\"dataframe\">\n",
       "  <thead>\n",
       "    <tr style=\"text-align: right;\">\n",
       "      <th></th>\n",
       "      <th>ADSK</th>\n",
       "      <th>AOS</th>\n",
       "      <th>BKNG</th>\n",
       "      <th>CBRE</th>\n",
       "      <th>CCI</th>\n",
       "      <th>CF</th>\n",
       "      <th>CHRW</th>\n",
       "      <th>DE</th>\n",
       "      <th>DGX</th>\n",
       "      <th>DTE</th>\n",
       "      <th>...</th>\n",
       "      <th>MRK</th>\n",
       "      <th>MTD</th>\n",
       "      <th>PG</th>\n",
       "      <th>PNR</th>\n",
       "      <th>SBAC</th>\n",
       "      <th>STE</th>\n",
       "      <th>TTWO</th>\n",
       "      <th>VTRS</th>\n",
       "      <th>WM</th>\n",
       "      <th>WMT</th>\n",
       "    </tr>\n",
       "    <tr>\n",
       "      <th>date</th>\n",
       "      <th></th>\n",
       "      <th></th>\n",
       "      <th></th>\n",
       "      <th></th>\n",
       "      <th></th>\n",
       "      <th></th>\n",
       "      <th></th>\n",
       "      <th></th>\n",
       "      <th></th>\n",
       "      <th></th>\n",
       "      <th></th>\n",
       "      <th></th>\n",
       "      <th></th>\n",
       "      <th></th>\n",
       "      <th></th>\n",
       "      <th></th>\n",
       "      <th></th>\n",
       "      <th></th>\n",
       "      <th></th>\n",
       "      <th></th>\n",
       "      <th></th>\n",
       "    </tr>\n",
       "  </thead>\n",
       "  <tbody>\n",
       "    <tr>\n",
       "      <th>2024-11-29</th>\n",
       "      <td>-0.108049</td>\n",
       "      <td>0.001919</td>\n",
       "      <td>-0.010707</td>\n",
       "      <td>0.017987</td>\n",
       "      <td>-0.000695</td>\n",
       "      <td>-0.013378</td>\n",
       "      <td>-0.026047</td>\n",
       "      <td>0.028463</td>\n",
       "      <td>-0.015035</td>\n",
       "      <td>0.001000</td>\n",
       "      <td>...</td>\n",
       "      <td>0.018365</td>\n",
       "      <td>0.013934</td>\n",
       "      <td>0.009785</td>\n",
       "      <td>0.004557</td>\n",
       "      <td>0.015754</td>\n",
       "      <td>0.010505</td>\n",
       "      <td>-0.009923</td>\n",
       "      <td>-0.028645</td>\n",
       "      <td>0.007773</td>\n",
       "      <td>0.015156</td>\n",
       "    </tr>\n",
       "    <tr>\n",
       "      <th>2024-12-06</th>\n",
       "      <td>0.041694</td>\n",
       "      <td>-0.034368</td>\n",
       "      <td>0.009021</td>\n",
       "      <td>-0.026658</td>\n",
       "      <td>-0.047508</td>\n",
       "      <td>-0.022482</td>\n",
       "      <td>-0.000899</td>\n",
       "      <td>-0.058154</td>\n",
       "      <td>-0.039673</td>\n",
       "      <td>-0.039778</td>\n",
       "      <td>...</td>\n",
       "      <td>0.009273</td>\n",
       "      <td>-0.004627</td>\n",
       "      <td>-0.035752</td>\n",
       "      <td>-0.018765</td>\n",
       "      <td>-0.032963</td>\n",
       "      <td>-0.023136</td>\n",
       "      <td>-0.001839</td>\n",
       "      <td>-0.032969</td>\n",
       "      <td>-0.030388</td>\n",
       "      <td>0.028523</td>\n",
       "    </tr>\n",
       "    <tr>\n",
       "      <th>2024-12-13</th>\n",
       "      <td>-0.005549</td>\n",
       "      <td>0.004611</td>\n",
       "      <td>-0.006689</td>\n",
       "      <td>0.003625</td>\n",
       "      <td>-0.026479</td>\n",
       "      <td>0.017587</td>\n",
       "      <td>0.059799</td>\n",
       "      <td>-0.002645</td>\n",
       "      <td>-0.010962</td>\n",
       "      <td>0.001563</td>\n",
       "      <td>...</td>\n",
       "      <td>-0.008723</td>\n",
       "      <td>0.021033</td>\n",
       "      <td>-0.013159</td>\n",
       "      <td>-0.000446</td>\n",
       "      <td>-0.022560</td>\n",
       "      <td>-0.002893</td>\n",
       "      <td>-0.020556</td>\n",
       "      <td>0.002421</td>\n",
       "      <td>-0.038362</td>\n",
       "      <td>-0.011696</td>\n",
       "    </tr>\n",
       "    <tr>\n",
       "      <th>2024-12-20</th>\n",
       "      <td>0.005347</td>\n",
       "      <td>-0.032718</td>\n",
       "      <td>-0.011464</td>\n",
       "      <td>-0.035024</td>\n",
       "      <td>-0.052567</td>\n",
       "      <td>-0.032651</td>\n",
       "      <td>-0.052474</td>\n",
       "      <td>0.001304</td>\n",
       "      <td>0.001023</td>\n",
       "      <td>0.012541</td>\n",
       "      <td>...</td>\n",
       "      <td>-0.023388</td>\n",
       "      <td>-0.016891</td>\n",
       "      <td>-0.007943</td>\n",
       "      <td>-0.024171</td>\n",
       "      <td>-0.034588</td>\n",
       "      <td>-0.015143</td>\n",
       "      <td>-0.008179</td>\n",
       "      <td>0.012803</td>\n",
       "      <td>-0.024570</td>\n",
       "      <td>-0.013826</td>\n",
       "    </tr>\n",
       "    <tr>\n",
       "      <th>2024-12-27</th>\n",
       "      <td>-0.011285</td>\n",
       "      <td>-0.011038</td>\n",
       "      <td>-0.011001</td>\n",
       "      <td>0.002711</td>\n",
       "      <td>-0.005577</td>\n",
       "      <td>-0.009409</td>\n",
       "      <td>-0.008351</td>\n",
       "      <td>-0.014287</td>\n",
       "      <td>-0.008446</td>\n",
       "      <td>0.004969</td>\n",
       "      <td>...</td>\n",
       "      <td>0.012862</td>\n",
       "      <td>-0.004779</td>\n",
       "      <td>0.004561</td>\n",
       "      <td>-0.015779</td>\n",
       "      <td>-0.007017</td>\n",
       "      <td>-0.004276</td>\n",
       "      <td>0.017208</td>\n",
       "      <td>-0.005774</td>\n",
       "      <td>-0.014627</td>\n",
       "      <td>-0.011255</td>\n",
       "    </tr>\n",
       "  </tbody>\n",
       "</table>\n",
       "<p>5 rows × 25 columns</p>\n",
       "</div>"
      ],
      "text/plain": [
       "                ADSK       AOS      BKNG      CBRE       CCI        CF  \\\n",
       "date                                                                     \n",
       "2024-11-29 -0.108049  0.001919 -0.010707  0.017987 -0.000695 -0.013378   \n",
       "2024-12-06  0.041694 -0.034368  0.009021 -0.026658 -0.047508 -0.022482   \n",
       "2024-12-13 -0.005549  0.004611 -0.006689  0.003625 -0.026479  0.017587   \n",
       "2024-12-20  0.005347 -0.032718 -0.011464 -0.035024 -0.052567 -0.032651   \n",
       "2024-12-27 -0.011285 -0.011038 -0.011001  0.002711 -0.005577 -0.009409   \n",
       "\n",
       "                CHRW        DE       DGX       DTE  ...       MRK       MTD  \\\n",
       "date                                                ...                       \n",
       "2024-11-29 -0.026047  0.028463 -0.015035  0.001000  ...  0.018365  0.013934   \n",
       "2024-12-06 -0.000899 -0.058154 -0.039673 -0.039778  ...  0.009273 -0.004627   \n",
       "2024-12-13  0.059799 -0.002645 -0.010962  0.001563  ... -0.008723  0.021033   \n",
       "2024-12-20 -0.052474  0.001304  0.001023  0.012541  ... -0.023388 -0.016891   \n",
       "2024-12-27 -0.008351 -0.014287 -0.008446  0.004969  ...  0.012862 -0.004779   \n",
       "\n",
       "                  PG       PNR      SBAC       STE      TTWO      VTRS  \\\n",
       "date                                                                     \n",
       "2024-11-29  0.009785  0.004557  0.015754  0.010505 -0.009923 -0.028645   \n",
       "2024-12-06 -0.035752 -0.018765 -0.032963 -0.023136 -0.001839 -0.032969   \n",
       "2024-12-13 -0.013159 -0.000446 -0.022560 -0.002893 -0.020556  0.002421   \n",
       "2024-12-20 -0.007943 -0.024171 -0.034588 -0.015143 -0.008179  0.012803   \n",
       "2024-12-27  0.004561 -0.015779 -0.007017 -0.004276  0.017208 -0.005774   \n",
       "\n",
       "                  WM       WMT  \n",
       "date                            \n",
       "2024-11-29  0.007773  0.015156  \n",
       "2024-12-06 -0.030388  0.028523  \n",
       "2024-12-13 -0.038362 -0.011696  \n",
       "2024-12-20 -0.024570 -0.013826  \n",
       "2024-12-27 -0.014627 -0.011255  \n",
       "\n",
       "[5 rows x 25 columns]"
      ]
     },
     "metadata": {},
     "output_type": "display_data"
    }
   ],
   "source": [
    "# 5.2: Compute residuals (market-hedged returns)\n",
    "residuals = pd.DataFrame(index=rets_in.index, columns=rets_in.columns)\n",
    "\n",
    "for col in rets_in.columns:\n",
    "    X = np.vstack([np.ones(len(r_spy)), r_spy]).T\n",
    "    y = rets_in[col].values\n",
    "    coeffs = np.linalg.lstsq(X, y, rcond=None)[0]\n",
    "    fitted = X @ coeffs\n",
    "    residuals[col] = y - fitted  # store residuals\n",
    "\n",
    "print(\"Market-Hedged Returns (Residuals) - Last 5 Observations:\\n\")\n",
    "display(residuals.tail())\n"
   ]
  },
  {
   "cell_type": "markdown",
   "metadata": {},
   "source": [
    "#### 5.3 Diversification Benefits of Market-Hedged Returns\n",
    "\n",
    "Display the covariance matrix of the market-hedged returns for the first ten stocks.\n"
   ]
  },
  {
   "cell_type": "code",
   "execution_count": 10,
   "metadata": {},
   "outputs": [
    {
     "name": "stdout",
     "output_type": "stream",
     "text": [
      "Covariance Matrix of Market-Hedged Returns (First 10 Stocks):\n",
      "\n"
     ]
    },
    {
     "data": {
      "text/html": [
       "<div>\n",
       "<style scoped>\n",
       "    .dataframe tbody tr th:only-of-type {\n",
       "        vertical-align: middle;\n",
       "    }\n",
       "\n",
       "    .dataframe tbody tr th {\n",
       "        vertical-align: top;\n",
       "    }\n",
       "\n",
       "    .dataframe thead th {\n",
       "        text-align: right;\n",
       "    }\n",
       "</style>\n",
       "<table border=\"1\" class=\"dataframe\">\n",
       "  <thead>\n",
       "    <tr style=\"text-align: right;\">\n",
       "      <th></th>\n",
       "      <th>ADSK</th>\n",
       "      <th>AOS</th>\n",
       "      <th>BKNG</th>\n",
       "      <th>CBRE</th>\n",
       "      <th>CCI</th>\n",
       "      <th>CF</th>\n",
       "      <th>CHRW</th>\n",
       "      <th>DE</th>\n",
       "      <th>DGX</th>\n",
       "      <th>DTE</th>\n",
       "    </tr>\n",
       "  </thead>\n",
       "  <tbody>\n",
       "    <tr>\n",
       "      <th>ADSK</th>\n",
       "      <td>0.074221</td>\n",
       "      <td>-0.000768</td>\n",
       "      <td>0.008865</td>\n",
       "      <td>0.000639</td>\n",
       "      <td>0.000043</td>\n",
       "      <td>-0.009479</td>\n",
       "      <td>0.001483</td>\n",
       "      <td>-0.007296</td>\n",
       "      <td>-0.003985</td>\n",
       "      <td>-0.011858</td>\n",
       "    </tr>\n",
       "    <tr>\n",
       "      <th>AOS</th>\n",
       "      <td>-0.000768</td>\n",
       "      <td>0.044434</td>\n",
       "      <td>0.002804</td>\n",
       "      <td>0.011971</td>\n",
       "      <td>0.005090</td>\n",
       "      <td>0.003640</td>\n",
       "      <td>0.008747</td>\n",
       "      <td>0.011189</td>\n",
       "      <td>0.003409</td>\n",
       "      <td>-0.001164</td>\n",
       "    </tr>\n",
       "    <tr>\n",
       "      <th>BKNG</th>\n",
       "      <td>0.008865</td>\n",
       "      <td>0.002804</td>\n",
       "      <td>0.057384</td>\n",
       "      <td>0.009359</td>\n",
       "      <td>-0.009382</td>\n",
       "      <td>0.003570</td>\n",
       "      <td>-0.002364</td>\n",
       "      <td>0.003391</td>\n",
       "      <td>-0.008099</td>\n",
       "      <td>-0.004369</td>\n",
       "    </tr>\n",
       "    <tr>\n",
       "      <th>CBRE</th>\n",
       "      <td>0.000639</td>\n",
       "      <td>0.011971</td>\n",
       "      <td>0.009359</td>\n",
       "      <td>0.053054</td>\n",
       "      <td>0.003925</td>\n",
       "      <td>0.015419</td>\n",
       "      <td>-0.003130</td>\n",
       "      <td>0.003512</td>\n",
       "      <td>0.002879</td>\n",
       "      <td>0.007751</td>\n",
       "    </tr>\n",
       "    <tr>\n",
       "      <th>CCI</th>\n",
       "      <td>0.000043</td>\n",
       "      <td>0.005090</td>\n",
       "      <td>-0.009382</td>\n",
       "      <td>0.003925</td>\n",
       "      <td>0.045666</td>\n",
       "      <td>-0.008014</td>\n",
       "      <td>0.001118</td>\n",
       "      <td>-0.005453</td>\n",
       "      <td>0.007902</td>\n",
       "      <td>0.014564</td>\n",
       "    </tr>\n",
       "    <tr>\n",
       "      <th>CF</th>\n",
       "      <td>-0.009479</td>\n",
       "      <td>0.003640</td>\n",
       "      <td>0.003570</td>\n",
       "      <td>0.015419</td>\n",
       "      <td>-0.008014</td>\n",
       "      <td>0.130449</td>\n",
       "      <td>0.007837</td>\n",
       "      <td>0.025454</td>\n",
       "      <td>0.002955</td>\n",
       "      <td>0.004354</td>\n",
       "    </tr>\n",
       "    <tr>\n",
       "      <th>CHRW</th>\n",
       "      <td>0.001483</td>\n",
       "      <td>0.008747</td>\n",
       "      <td>-0.002364</td>\n",
       "      <td>-0.003130</td>\n",
       "      <td>0.001118</td>\n",
       "      <td>0.007837</td>\n",
       "      <td>0.053639</td>\n",
       "      <td>0.006422</td>\n",
       "      <td>-0.000828</td>\n",
       "      <td>0.000495</td>\n",
       "    </tr>\n",
       "    <tr>\n",
       "      <th>DE</th>\n",
       "      <td>-0.007296</td>\n",
       "      <td>0.011189</td>\n",
       "      <td>0.003391</td>\n",
       "      <td>0.003512</td>\n",
       "      <td>-0.005453</td>\n",
       "      <td>0.025454</td>\n",
       "      <td>0.006422</td>\n",
       "      <td>0.058897</td>\n",
       "      <td>-0.001478</td>\n",
       "      <td>0.001686</td>\n",
       "    </tr>\n",
       "    <tr>\n",
       "      <th>DGX</th>\n",
       "      <td>-0.003985</td>\n",
       "      <td>0.003409</td>\n",
       "      <td>-0.008099</td>\n",
       "      <td>0.002879</td>\n",
       "      <td>0.007902</td>\n",
       "      <td>0.002955</td>\n",
       "      <td>-0.000828</td>\n",
       "      <td>-0.001478</td>\n",
       "      <td>0.040883</td>\n",
       "      <td>0.010468</td>\n",
       "    </tr>\n",
       "    <tr>\n",
       "      <th>DTE</th>\n",
       "      <td>-0.011858</td>\n",
       "      <td>-0.001164</td>\n",
       "      <td>-0.004369</td>\n",
       "      <td>0.007751</td>\n",
       "      <td>0.014564</td>\n",
       "      <td>0.004354</td>\n",
       "      <td>0.000495</td>\n",
       "      <td>0.001686</td>\n",
       "      <td>0.010468</td>\n",
       "      <td>0.034688</td>\n",
       "    </tr>\n",
       "  </tbody>\n",
       "</table>\n",
       "</div>"
      ],
      "text/plain": [
       "          ADSK       AOS      BKNG      CBRE       CCI        CF      CHRW  \\\n",
       "ADSK  0.074221 -0.000768  0.008865  0.000639  0.000043 -0.009479  0.001483   \n",
       "AOS  -0.000768  0.044434  0.002804  0.011971  0.005090  0.003640  0.008747   \n",
       "BKNG  0.008865  0.002804  0.057384  0.009359 -0.009382  0.003570 -0.002364   \n",
       "CBRE  0.000639  0.011971  0.009359  0.053054  0.003925  0.015419 -0.003130   \n",
       "CCI   0.000043  0.005090 -0.009382  0.003925  0.045666 -0.008014  0.001118   \n",
       "CF   -0.009479  0.003640  0.003570  0.015419 -0.008014  0.130449  0.007837   \n",
       "CHRW  0.001483  0.008747 -0.002364 -0.003130  0.001118  0.007837  0.053639   \n",
       "DE   -0.007296  0.011189  0.003391  0.003512 -0.005453  0.025454  0.006422   \n",
       "DGX  -0.003985  0.003409 -0.008099  0.002879  0.007902  0.002955 -0.000828   \n",
       "DTE  -0.011858 -0.001164 -0.004369  0.007751  0.014564  0.004354  0.000495   \n",
       "\n",
       "            DE       DGX       DTE  \n",
       "ADSK -0.007296 -0.003985 -0.011858  \n",
       "AOS   0.011189  0.003409 -0.001164  \n",
       "BKNG  0.003391 -0.008099 -0.004369  \n",
       "CBRE  0.003512  0.002879  0.007751  \n",
       "CCI  -0.005453  0.007902  0.014564  \n",
       "CF    0.025454  0.002955  0.004354  \n",
       "CHRW  0.006422 -0.000828  0.000495  \n",
       "DE    0.058897 -0.001478  0.001686  \n",
       "DGX  -0.001478  0.040883  0.010468  \n",
       "DTE   0.001686  0.010468  0.034688  "
      ]
     },
     "metadata": {},
     "output_type": "display_data"
    }
   ],
   "source": [
    "# 5.3: Covariance matrix of market-hedged returns (first 10 stocks)\n",
    "cov_resid = residuals.iloc[:, :10].cov() * 52  # annualized\n",
    "print(\"Covariance Matrix of Market-Hedged Returns (First 10 Stocks):\\n\")\n",
    "display(cov_resid.round(6))\n"
   ]
  },
  {
   "cell_type": "markdown",
   "metadata": {},
   "source": [
    "#### 5.4. Portfolio Optimization with Market-Hedged Returns\n",
    "\n",
    "Construct the tangency portfolio using the alphas (intercept from previous regression) as expected returns and the covariance matrix of the market-hedged returns. Display the portfolio weights."
   ]
  },
  {
   "cell_type": "code",
   "execution_count": 11,
   "metadata": {},
   "outputs": [
    {
     "name": "stdout",
     "output_type": "stream",
     "text": [
      "Tangency Portfolio Weights (Market-Hedged Returns):\n",
      "\n"
     ]
    },
    {
     "data": {
      "text/plain": [
       "GOOGL    0.1272\n",
       "INTU     0.0986\n",
       "WMT      0.0931\n",
       "DTE      0.0786\n",
       "WM       0.0676\n",
       "PG       0.0664\n",
       "DE       0.0616\n",
       "CBRE     0.0563\n",
       "MRK      0.0528\n",
       "PNR      0.0502\n",
       "BKNG     0.0487\n",
       "TTWO     0.0470\n",
       "GD       0.0447\n",
       "DGX      0.0442\n",
       "ADSK     0.0380\n",
       "MTD      0.0284\n",
       "STE      0.0168\n",
       "CHRW     0.0140\n",
       "CF       0.0122\n",
       "MGM      0.0105\n",
       "AOS      0.0086\n",
       "SBAC     0.0058\n",
       "CCI     -0.0095\n",
       "VTRS    -0.0132\n",
       "ES      -0.0485\n",
       "Name: Hedged Tangency Weights, dtype: float64"
      ]
     },
     "metadata": {},
     "output_type": "display_data"
    }
   ],
   "source": [
    "# 5.4: Tangency portfolio using alphas (expected returns) and covariance of residuals\n",
    "alpha_vec = alphas_df.values           # expected returns = alphas\n",
    "Sigma_hedged = residuals.cov().values * 52  # annualized covariance\n",
    "\n",
    "# Tangency weights (normalize to sum to 1)\n",
    "w_tan_hedged = np.linalg.inv(Sigma_hedged) @ alpha_vec\n",
    "w_tan_hedged = w_tan_hedged / w_tan_hedged.sum()\n",
    "\n",
    "# Create Series for readability\n",
    "w_tan_hedged_df = pd.Series(w_tan_hedged, index=residuals.columns, name=\"Hedged Tangency Weights\")\n",
    "\n",
    "print(\"Tangency Portfolio Weights (Market-Hedged Returns):\\n\")\n",
    "display(w_tan_hedged_df.sort_values(ascending=False).round(4))\n"
   ]
  },
  {
   "cell_type": "markdown",
   "metadata": {},
   "source": [
    "#### 5.5. Performance of the Tangency of the Hedged\n",
    "\n",
    "Calculate the returns to the portfolio with weights from the previous question (just in-sample).\n",
    "\n",
    "   Report the (annualized)\n",
    "   * mean\n",
    "   * volatility\n",
    "   * Sharpe ratio\n",
    "   * skewness (not annualized)"
   ]
  },
  {
   "cell_type": "code",
   "execution_count": 12,
   "metadata": {},
   "outputs": [
    {
     "name": "stdout",
     "output_type": "stream",
     "text": [
      "Tangency Portfolio Performance (Market-Hedged, In-Sample):\n",
      "\n",
      "Mean: 0.0000\n",
      "Volatility: 0.0497\n",
      "Sharpe Ratio: 0.0000\n",
      "Skewness: 0.0111\n"
     ]
    }
   ],
   "source": [
    "# 5.5: Portfolio returns using hedged tangency weights (in-sample)\n",
    "r_tan_hedged = residuals @ w_tan_hedged_df\n",
    "\n",
    "# Annualized performance\n",
    "mean_hdg = r_tan_hedged.mean() * 52\n",
    "vol_hdg = r_tan_hedged.std() * (52 ** 0.5)\n",
    "sharpe_hdg = mean_hdg / vol_hdg\n",
    "skew_hdg = skew(r_tan_hedged)\n",
    "\n",
    "print(\"Tangency Portfolio Performance (Market-Hedged, In-Sample):\\n\")\n",
    "print(f\"Mean: {mean_hdg:.4f}\")\n",
    "print(f\"Volatility: {vol_hdg:.4f}\")\n",
    "print(f\"Sharpe Ratio: {sharpe_hdg:.4f}\")\n",
    "print(f\"Skewness: {skew_hdg:.4f}\")"
   ]
  },
  {
   "cell_type": "markdown",
   "metadata": {},
   "source": [
    "***"
   ]
  },
  {
   "cell_type": "markdown",
   "metadata": {},
   "source": [
    "# 2. Managing Risk"
   ]
  },
  {
   "cell_type": "code",
   "execution_count": 13,
   "metadata": {},
   "outputs": [],
   "source": [
    "DATAFILE = '../data/midterm_1_fund_returns.xlsx'\n",
    "df = pd.read_excel(DATAFILE, sheet_name='fund returns').set_index('date')\n"
   ]
  },
  {
   "cell_type": "markdown",
   "metadata": {},
   "source": [
    "#### 1. Calculating Volatility\n",
    "Given the return data provided, calculate the annual volatility grouped by year. Annualize this volatility. That is, your answer should be a DataFrame with 10 rows (one for each year from 2015 to 2024) and a single column representing the annualized volatility for that year.\n",
    "\n",
    "What do you notice about the volatility across different years?"
   ]
  },
  {
   "cell_type": "code",
   "execution_count": 14,
   "metadata": {},
   "outputs": [
    {
     "name": "stdout",
     "output_type": "stream",
     "text": [
      "Volatility Grouped by Year: \n",
      "\n",
      "date\n",
      "2015    0.0464\n",
      "2016    0.1758\n",
      "2017    0.0490\n",
      "2018    0.1847\n",
      "2019    0.0567\n",
      "2020    0.1966\n",
      "2021    0.0391\n",
      "2022    0.2068\n",
      "2023    0.0514\n",
      "2024    0.2164\n",
      "Name: fund, dtype: float64\n"
     ]
    }
   ],
   "source": [
    "print(\"Volatility Grouped by Year: \\n\")\n",
    "\n",
    "annual_vol = df['fund'].groupby(df.index.year).std() * (52 ** 0.5)\n",
    "\n",
    "\n",
    "print(annual_vol.round(4))"
   ]
  },
  {
   "cell_type": "markdown",
   "metadata": {},
   "source": [
    "Volatility varies significantly across years, with spikes in 2018, 2020, 2022, and 2024 indicating higher market turbulence."
   ]
  },
  {
   "cell_type": "markdown",
   "metadata": {},
   "source": [
    "#### 2. Volatility Estimates\n",
    "\n",
    "Using the return data, compute the annualized volatility estimate as of the last data point using the following methods:\n",
    "- EWMA volatility with a half-life of 26 weeks.\n",
    "- Rolling window volatility with a window size of 52 weeks.\n",
    "\n",
    "**Note:** do not specify a \"min_periods\" argument anywhere."
   ]
  },
  {
   "cell_type": "code",
   "execution_count": 15,
   "metadata": {},
   "outputs": [
    {
     "name": "stdout",
     "output_type": "stream",
     "text": [
      "EWMA (26w) = 0.1797\n",
      "Rolling (52w) = 0.2164\n"
     ]
    }
   ],
   "source": [
    "# EWMA volatility (half-life = 26 weeks)\n",
    "ewma_vol = df['fund'].ewm(halflife=26).std().iloc[-1] * np.sqrt(52)\n",
    "\n",
    "# Rolling window volatility (window = 52 weeks)\n",
    "rolling_vol = df['fund'].rolling(window=52).std().iloc[-1] * np.sqrt(52)\n",
    "\n",
    "print(f\"EWMA (26w) = {ewma_vol:.4f}\")\n",
    "print(f\"Rolling (52w) = {rolling_vol:.4f}\")\n"
   ]
  },
  {
   "cell_type": "markdown",
   "metadata": {},
   "source": [
    "#### 3. Dynamic VaR estimates\n",
    "\n",
    "Using the return data, compute the 1-week 1% VaR as of the last data point in the series.\n",
    "\n",
    "You should use two different volatility models to compute the VaR:\n",
    "- EWMA volatility with a half-life of 26 weeks.\n",
    "- Rolling-window volatility with a window of 52 weeks.\n",
    "- Empirical (expanding) VaR."
   ]
  },
  {
   "cell_type": "code",
   "execution_count": 16,
   "metadata": {},
   "outputs": [
    {
     "name": "stdout",
     "output_type": "stream",
     "text": [
      "EWMA VaR (1%, 1-week): -0.4181\n",
      "Rolling 52w VaR (1%, 1-week): -0.5034\n",
      "Empirical VaR (1%, 1-week): -0.0528\n"
     ]
    }
   ],
   "source": [
    "from scipy.stats import norm\n",
    "\n",
    "# 1% quantile (z-score)\n",
    "z_01 = norm.ppf(0.01)\n",
    "\n",
    "# EWMA volatility (26w half-life)\n",
    "ewma_vol = df['fund'].ewm(halflife=26).std() * np.sqrt(52)\n",
    "VaR_ewma = z_01 * ewma_vol.iloc[-1]\n",
    "\n",
    "# Rolling 52w volatility\n",
    "roll_vol = df['fund'].rolling(window=52).std() * np.sqrt(52)\n",
    "VaR_roll = z_01 * roll_vol.iloc[-1]\n",
    "\n",
    "# Empirical (expanding) VaR\n",
    "VaR_emp = df['fund'].expanding().quantile(0.01).iloc[-1]\n",
    "\n",
    "print(f\"EWMA VaR (1%, 1-week): {VaR_ewma:.4f}\")\n",
    "print(f\"Rolling 52w VaR (1%, 1-week): {VaR_roll:.4f}\")\n",
    "print(f\"Empirical VaR (1%, 1-week): {VaR_emp:.4f}\")"
   ]
  },
  {
   "cell_type": "markdown",
   "metadata": {},
   "source": [
    "#### 4. Dynamic CVaR estimates\n",
    "\n",
    "Repeat Question 3, but instead compute the 1-week 1% Conditional VaR (CVaR) as of the last data point in the series using the same three methods."
   ]
  },
  {
   "cell_type": "code",
   "execution_count": 17,
   "metadata": {},
   "outputs": [
    {
     "name": "stdout",
     "output_type": "stream",
     "text": [
      "EWMA CVaR (1%, 1-week): -0.4790\n",
      "Rolling 52w CVaR (1%, 1-week): -0.5768\n",
      "Empirical CVaR (1%, 1-week): -0.0658\n"
     ]
    }
   ],
   "source": [
    "# CVaR for normal distribution (1%) constant\n",
    "cvar_const = norm.pdf(norm.ppf(0.01)) / 0.01  # ≈ 2.665\n",
    "\n",
    "# EWMA volatility (half-life = 26)\n",
    "ewma_vol = df['fund'].ewm(halflife=26).std() * np.sqrt(52)\n",
    "CVaR_ewma = -cvar_const * ewma_vol.iloc[-1]\n",
    "\n",
    "# Rolling 52w volatility\n",
    "roll_vol = df['fund'].rolling(window=52).std() * np.sqrt(52)\n",
    "CVaR_roll = -cvar_const * roll_vol.iloc[-1]\n",
    "\n",
    "# Empirical CVaR (mean of worst 1%)\n",
    "CVaR_emp = df['fund'][df['fund'] <= df['fund'].quantile(0.01)].mean()\n",
    "\n",
    "print(f\"EWMA CVaR (1%, 1-week): {CVaR_ewma:.4f}\")\n",
    "print(f\"Rolling 52w CVaR (1%, 1-week): {CVaR_roll:.4f}\")\n",
    "print(f\"Empirical CVaR (1%, 1-week): {CVaR_emp:.4f}\")\n"
   ]
  },
  {
   "cell_type": "markdown",
   "metadata": {},
   "source": [
    "#### 5. Year Choice\n",
    "\n",
    "Suppose instead we were interested in our VaR estimates as of the end of 2023 (ie. use all data that is before 2024-01-01). Report your VaR (1-week, 1%) estimates using the same three methods as in Question 3, but now the last data point in 2023.\n",
    "\n",
    "Hint: You can use `df.loc[:'2023']` to filter the DataFrame to only include data up to the end of 2023."
   ]
  },
  {
   "cell_type": "code",
   "execution_count": 18,
   "metadata": {},
   "outputs": [
    {
     "name": "stdout",
     "output_type": "stream",
     "text": [
      "EWMA VaR (1%, 1-week, end 2023): -0.2337\n",
      "Rolling 52w VaR (1%, 1-week, end 2023): -0.1197\n",
      "Empirical VaR (1%, 1-week, end 2023): -0.0496\n"
     ]
    }
   ],
   "source": [
    "# Filter data up to end of 2023\n",
    "df_2023 = df.loc[:'2023']\n",
    "\n",
    "# 1% quantile (z-score)\n",
    "z_01 = norm.ppf(0.01)\n",
    "\n",
    "# EWMA volatility (26w half-life)\n",
    "ewma_vol_2023 = df_2023['fund'].ewm(halflife=26).std().iloc[-1] * np.sqrt(52)\n",
    "VaR_ewma_2023 = z_01 * ewma_vol_2023\n",
    "\n",
    "# Rolling 52w volatility\n",
    "roll_vol_2023 = df_2023['fund'].rolling(window=52).std().iloc[-1] * np.sqrt(52)\n",
    "VaR_roll_2023 = z_01 * roll_vol_2023\n",
    "\n",
    "# Empirical VaR\n",
    "VaR_emp_2023 = df_2023['fund'].quantile(0.01)\n",
    "\n",
    "print(f\"EWMA VaR (1%, 1-week, end 2023): {VaR_ewma_2023:.4f}\")\n",
    "print(f\"Rolling 52w VaR (1%, 1-week, end 2023): {VaR_roll_2023:.4f}\")\n",
    "print(f\"Empirical VaR (1%, 1-week, end 2023): {VaR_emp_2023:.4f}\")\n"
   ]
  },
  {
   "cell_type": "markdown",
   "metadata": {},
   "source": [
    "### 6. Compare"
   ]
  },
  {
   "cell_type": "markdown",
   "metadata": {},
   "source": [
    "What do you notice about the VaR estimates compared to those from question `2.2`?"
   ]
  },
  {
   "cell_type": "markdown",
   "metadata": {},
   "source": [
    "When comparing the VaR as of end-2023 to the VaR as of the latest data point (2025):\n",
    "\n",
    "- The 2023 VaR values are smaller in magnitude (e.g., −0.23 EWMA vs −0.42 later), which indicates lower estimated risk at that time.\n",
    "\n",
    "- By contrast, the more recent VaR estimates (2025) are larger in absolute value, meaning the model now projects higher potential losses at the 1% tail.\n",
    "\n",
    "Market conditions appear to have become more volatile after 2023; hence the more negative (larger-magnitude) VaR estimates in 2025, reflecting a higher level of estimated tail risk."
   ]
  }
 ],
 "metadata": {
  "kernelspec": {
   "display_name": ".venv",
   "language": "python",
   "name": "python3"
  },
  "language_info": {
   "codemirror_mode": {
    "name": "ipython",
    "version": 3
   },
   "file_extension": ".py",
   "mimetype": "text/x-python",
   "name": "python",
   "nbconvert_exporter": "python",
   "pygments_lexer": "ipython3",
   "version": "3.13.3"
  }
 },
 "nbformat": 4,
 "nbformat_minor": 4
}
