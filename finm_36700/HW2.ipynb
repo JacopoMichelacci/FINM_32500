{
 "cells": [
  {
   "cell_type": "code",
   "execution_count": 43,
   "metadata": {},
   "outputs": [],
   "source": [
    "import pandas as pd\n",
    "import numpy as np\n",
    "import os"
   ]
  },
  {
   "cell_type": "code",
   "execution_count": 47,
   "metadata": {},
   "outputs": [
    {
     "name": "stdout",
     "output_type": "stream",
     "text": [
      "Mean Annual Return: \n",
      "\n",
      "HFRIFWI Index     0.0513\n",
      "MLEIFCTR Index    0.0385\n",
      "MLEIFCTX Index    0.0365\n",
      "HDG US Equity     0.0269\n",
      "QAI US Equity     0.0288\n",
      "dtype: float64\n",
      "\n",
      "Volatility of Return: \n",
      "\n",
      "HFRIFWI Index     0.0588\n",
      "MLEIFCTR Index    0.0552\n",
      "MLEIFCTX Index    0.0551\n",
      "HDG US Equity     0.0574\n",
      "QAI US Equity     0.0498\n",
      "dtype: float64\n",
      "\n",
      "Sharpe: \n",
      "\n",
      "HFRIFWI Index     0.5320\n",
      "MLEIFCTR Index    0.3355\n",
      "MLEIFCTX Index    0.2999\n",
      "HDG US Equity     0.1199\n",
      "QAI US Equity     0.1769\n",
      "dtype: float64\n"
     ]
    }
   ],
   "source": [
    "df = pd.read_excel(\"/Users/jacopomichelacci/FINM_32500/data/proshares_analysis_data.xlsx\", sheet_name='hedge_fund_series')\n",
    "df = df.drop(columns=[\"Unnamed: 0\"])\n",
    "\n",
    "mean_r = df.mean() * 12\n",
    "vol_r = df.std() * (12 ** 0.5)\n",
    "\n",
    "rfr = 0.02\n",
    "\n",
    "sharpe = (mean_r - rfr) / vol_r\n",
    "\n",
    "print(\"Mean Annual Return: \\n\")\n",
    "print(mean_r.round(4))\n",
    "\n",
    "print(\"\\nVolatility of Return: \\n\")\n",
    "print(vol_r.round(4))\n",
    "\n",
    "print(\"\\nSharpe: \\n\")\n",
    "print(sharpe.round(4))"
   ]
  },
  {
   "cell_type": "code",
   "execution_count": 56,
   "metadata": {},
   "outputs": [
    {
     "name": "stdout",
     "output_type": "stream",
     "text": [
      "Part 2. \n",
      "\n",
      "\n",
      "                    skew  exc_Kurt3    VaR_.5   CVaR_.5    max_dd date_valley  \\\n",
      "HFRIFWI Index  -0.948272   2.657351 -0.024008 -0.035992 -0.115473  2020-03-31   \n",
      "MLEIFCTR Index -0.289982  -1.369083 -0.027002 -0.034993 -0.124302  2022-09-30   \n",
      "MLEIFCTX Index -0.273477  -1.410210 -0.026970 -0.034937 -0.124388  2022-09-30   \n",
      "HDG US Equity  -0.274904  -1.223519 -0.029919 -0.036831 -0.140720  2022-09-30   \n",
      "QAI US Equity  -0.433508  -1.550816 -0.017171 -0.030995 -0.137716  2022-09-30   \n",
      "\n",
      "                date_peak date_recovery  \n",
      "HFRIFWI Index  2019-12-31    2020-08-31  \n",
      "MLEIFCTR Index 2021-06-30    2024-02-29  \n",
      "MLEIFCTX Index 2021-06-30    2024-02-29  \n",
      "HDG US Equity  2021-06-30    2024-07-31  \n",
      "QAI US Equity  2021-06-30    2024-02-29  \n"
     ]
    }
   ],
   "source": [
    "print(\"Part 2. \\n\\n\")\n",
    "\n",
    "df = pd.read_excel(\"/Users/jacopomichelacci/FINM_32500/data/proshares_analysis_data.xlsx\", sheet_name='hedge_fund_series')\n",
    "df.rename(columns={df.columns[0]: \"datetime\"}, inplace=True)\n",
    "df.set_index(\"datetime\", inplace=True)\n",
    "\n",
    "def max_drawdown(ret_series):\n",
    "    equity = (1 + ret_series).cumprod()\n",
    "    peak = equity.cummax()\n",
    "    dd = (equity - peak) / peak\n",
    "    max_dd = min(dd)\n",
    "\n",
    "    date_valley = dd.idxmin()\n",
    "    date_peak = equity.loc[:date_valley].idxmax()\n",
    "    value_peak1 = max(equity.loc[:date_valley])\n",
    "    date_recovery = equity.loc[date_valley:].loc[equity >= value_peak1].index.min()\n",
    "\n",
    "    return max_dd, date_valley, date_peak, date_recovery\n",
    "\n",
    "\n",
    "skew = df.skew()\n",
    "exc_kurt = df.kurt() - 3\n",
    "VaR_05 = df.quantile(0.05)\n",
    "CVaR_05 = df.apply(lambda x: x[x <= x.quantile(0.05)].mean())\n",
    "\n",
    "#create lists to hold variables for each intrument\n",
    "max_dd, date_valley, date_peak, date_recovery = [], [], [], []\n",
    "for col in df.columns:\n",
    "    max_dd1, date_valley1, date_peak1, date_recovery1 = max_drawdown(df[col])\n",
    "\n",
    "    max_dd.append(max_dd1)\n",
    "    date_valley.append(date_valley1)\n",
    "    date_peak.append(date_peak1)\n",
    "    date_recovery.append(date_recovery1)\n",
    "\n",
    "#turn list into pd.series\n",
    "max_dd = pd.Series(max_dd, index=df.columns)\n",
    "date_valley = pd.Series(date_valley, index=df.columns)\n",
    "date_peak = pd.Series(date_peak, index=df.columns)\n",
    "date_recovery = pd.Series(date_recovery, index=df.columns)\n",
    "\n",
    "\n",
    "df_result = pd.DataFrame({\n",
    "    \"skew\" : skew,\n",
    "    \"exc_Kurt3\" : exc_kurt,\n",
    "    \"VaR_.5\" : VaR_05,\n",
    "    \"CVaR_.5\" : CVaR_05,\n",
    "    \"max_dd\" : max_dd,\n",
    "    \"date_valley\" : date_valley,\n",
    "    \"date_peak\" : date_peak,\n",
    "    \"date_recovery\" : date_recovery\n",
    "})\n",
    "\n",
    "print(df_result)\n",
    "\n"
   ]
  },
  {
   "cell_type": "code",
   "execution_count": null,
   "metadata": {},
   "outputs": [],
   "source": [
    "print(\"Part 3. \\n\\n\")"
   ]
  }
 ],
 "metadata": {
  "kernelspec": {
   "display_name": ".venv",
   "language": "python",
   "name": "python3"
  },
  "language_info": {
   "codemirror_mode": {
    "name": "ipython",
    "version": 3
   },
   "file_extension": ".py",
   "mimetype": "text/x-python",
   "name": "python",
   "nbconvert_exporter": "python",
   "pygments_lexer": "ipython3",
   "version": "3.13.3"
  }
 },
 "nbformat": 4,
 "nbformat_minor": 2
}
